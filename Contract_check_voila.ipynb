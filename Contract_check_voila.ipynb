{
 "cells": [
  {
   "cell_type": "code",
   "execution_count": 1,
   "metadata": {},
   "outputs": [],
   "source": [
    "import os\n",
    "from dotenv import load_dotenv\n",
    "import openai\n",
    "import requests\n",
    "import json\n",
    "import time\n",
    "import logging\n",
    "from datetime import datetime\n",
    "import tensorflow as tf\n",
    "import keras\n",
    "import keras_nlp\n",
    "import logging\n",
    "from transformers import AutoTokenizer, TFAutoModel\n",
    "import tensorflow as tf\n",
    "import docx \n",
    "from docx import Document\n",
    "import pandas as pd\n",
    "import tensorflow as tf\n",
    "import ipywidgets as widgets\n",
    "from IPython.display import display"
   ]
  },
  {
   "cell_type": "code",
   "execution_count": 2,
   "metadata": {},
   "outputs": [],
   "source": [
    "# Load environment variables\n",
    "try:\n",
    "    load_dotenv()\n",
    "    openai.api_key = os.environ.get(\"OPENAI_API_KEY\")\n",
    "    if not openai.api_key:\n",
    "        raise ValueError(\"OpenAI API key not found in environment variables.\") \n",
    "\n",
    "    logging.info(\"Environment variables loaded successfully.\")\n",
    "except Exception as e:\n",
    "    logging.error(f\"Error loading environment variables: {e}\")\n",
    "    raise"
   ]
  },
  {
   "cell_type": "code",
   "execution_count": 3,
   "metadata": {},
   "outputs": [],
   "source": [
    "# Initialize OpenAI client\n",
    "client = openai.OpenAI()"
   ]
  },
  {
   "cell_type": "code",
   "execution_count": 4,
   "metadata": {},
   "outputs": [],
   "source": [
    "model = os.getenv(\"MODEL_NAME\", \"gpt-4o-mini\")\n",
    "\n",
    "# Create Contract Checking Assistant\n",
    "instructions = \"\"\"\n",
    "You are a Contract Checking Assistant. Your task is to receive written contracts, check them against specified regulations, identify missing parts, suggest modifications, and provide recommendations for improvement.\n",
    "\n",
    "When a contract is provided, follow these steps:\n",
    "\n",
    "1. **Check for Compliance**:\n",
    "    - Verify that the contract complies with Iran's regulations.\n",
    "    - Check compliance with ICC and Incoterms regulations.\n",
    "2. **Identify Missing Parts**:\n",
    "    - Highlight any sections that are missing or incomplete.\n",
    "3. **Suggest Modifications**:\n",
    "    - Recommend changes to ensure the contract meets all legal and regulatory requirements.\n",
    "4. **Provide Improvements**:\n",
    "    - Offer suggestions on how to improve the contract for clarity, fairness, and comprehensiveness.\n",
    "5. **Compare with Similar Contracts**:\n",
    "    - Compare the contract with similar contracts to identify common practices and potential improvements.\n",
    "6. **Identify Weaknesses and Challenges**:\n",
    "    - Find weaknesses and challenging points in the contract and suggest modifications for these parts.\n",
    "\n",
    "Your responses should be clear, concise, and professional. Always provide detailed explanations for your suggestions and ensure that your feedback is actionable.\n",
    "\"\"\""
   ]
  },
  {
   "cell_type": "code",
   "execution_count": 5,
   "metadata": {},
   "outputs": [
    {
     "data": {
      "text/plain": [
       "Assistant(id='asst_FDcoyeKw8SIJKex1wcgUcXCI', created_at=1727966515, description=None, instructions=\"\\nYou are a Contract Checking Assistant. Your task is to receive written contracts, check them against specified regulations, identify missing parts, suggest modifications, and provide recommendations for improvement.\\n\\nWhen a contract is provided, follow these steps:\\n\\n1. **Check for Compliance**:\\n    - Verify that the contract complies with Iran's regulations.\\n    - Check compliance with ICC and Incoterms regulations.\\n2. **Identify Missing Parts**:\\n    - Highlight any sections that are missing or incomplete.\\n3. **Suggest Modifications**:\\n    - Recommend changes to ensure the contract meets all legal and regulatory requirements.\\n4. **Provide Improvements**:\\n    - Offer suggestions on how to improve the contract for clarity, fairness, and comprehensiveness.\\n5. **Compare with Similar Contracts**:\\n    - Compare the contract with similar contracts to identify common practices and potential improvements.\\n6. **Identify Weaknesses and Challenges**:\\n    - Find weaknesses and challenging points in the contract and suggest modifications for these parts.\\n\\nYour responses should be clear, concise, and professional. Always provide detailed explanations for your suggestions and ensure that your feedback is actionable.\\n\", metadata={'project': 'Contract Review'}, model='gpt-4o-mini', name='Contract_Check_Assistant_alpha', object='assistant', tools=[FileSearchTool(type='file_search', file_search=FileSearch(max_num_results=None, ranking_options=FileSearchRankingOptions(score_threshold=0.0, ranker='default_2024_08_21'))), CodeInterpreterTool(type='code_interpreter')], response_format='auto', temperature=1.0, tool_resources=ToolResources(code_interpreter=ToolResourcesCodeInterpreter(file_ids=[]), file_search=ToolResourcesFileSearch(vector_store_ids=[])), top_p=1.0)"
      ]
     },
     "execution_count": 5,
     "metadata": {},
     "output_type": "execute_result"
    }
   ],
   "source": [
    "# Create Contract_Checking_Assistant\n",
    "Contract_Checking_Assistant = client.beta.assistants.create(\n",
    "    name=\"Contract_Check_Assistant_alpha\",\n",
    "    instructions=instructions,\n",
    "    model=model,\n",
    "    tools=[\n",
    "        {\"type\": \"file_search\"},\n",
    "        {\"type\": \"code_interpreter\"},\n",
    "    ],\n",
    "    metadata={\"project\": \"Contract Review\"}\n",
    ")\n",
    "\n",
    "Contract_Checking_Assistant"
   ]
  },
  {
   "cell_type": "code",
   "execution_count": 6,
   "metadata": {},
   "outputs": [
    {
     "data": {
      "text/plain": [
       "VectorStore(id='vs_SjfdnO5Oz0hUYeNTBBDzq1ZC', created_at=1727966655, file_counts=FileCounts(cancelled=0, completed=0, failed=0, in_progress=0, total=0), last_active_at=1727966655, metadata={}, name='The Rules', object='vector_store', status='completed', usage_bytes=0, expires_after=None, expires_at=None)"
      ]
     },
     "execution_count": 6,
     "metadata": {},
     "output_type": "execute_result"
    }
   ],
   "source": [
    "# Create a vector store called \"The Rules\"\n",
    "vector_store = client.beta.vector_stores.create(name=\"The Rules\")\n",
    "vector_store"
   ]
  },
  {
   "cell_type": "code",
   "execution_count": 7,
   "metadata": {},
   "outputs": [
    {
     "data": {
      "text/plain": [
       "'ﺑﺎب اول\\nﺗﺠﺎر و ﻣﻌﺎﻣﻼت ﺗﺠﺎرﺗﯽ\\n'"
      ]
     },
     "execution_count": 7,
     "metadata": {},
     "output_type": "execute_result"
    }
   ],
   "source": [
    "from docx import Document\n",
    "import logging\n",
    "\n",
    "def extract_text_from_word(file_path):\n",
    "    text = \"\"\n",
    "    try:\n",
    "        doc = Document(file_path)\n",
    "        for paragraph in doc.paragraphs:\n",
    "            text += paragraph.text + \"\\n\"\n",
    "    except Exception as e:\n",
    "        logging.error(f\"Error extracting text from Word file: {e}\")\n",
    "        raise\n",
    "    return text\n",
    "\n",
    "# Upload regulations to the vector store\n",
    "regulations_file_path = \"./iran_trade_rules.docx\"\n",
    "try:\n",
    "    regulations_text = extract_text_from_word(regulations_file_path)\n",
    "except Exception as e:\n",
    "    logging.error(f\"Error extracting text from regulations file: {e}\")\n",
    "    raise\n",
    "regulations_text[1:30]"
   ]
  },
  {
   "cell_type": "code",
   "execution_count": 8,
   "metadata": {},
   "outputs": [],
   "source": [
    "# Function for Text Embedding with TensorFlow\n",
    "def embed_text_large(text):\n",
    "    try:\n",
    "        # Load the tokenizer and model for XLM-RoBERTa Large\n",
    "        model_name = \"xlm-roberta-large\"\n",
    "        tokenizer = AutoTokenizer.from_pretrained(model_name)\n",
    "        model = TFAutoModel.from_pretrained(model_name)\n",
    "        \n",
    "        # Tokenize the input text\n",
    "        inputs = tokenizer(text, return_tensors=\"tf\", padding=True, truncation=True)\n",
    "        \n",
    "        # Get the embeddings from the model (CLS token represents the whole sentence)\n",
    "        outputs = model(**inputs)\n",
    "        embedding = outputs.last_hidden_state[:, 0, :]  # CLS token\n",
    "        \n",
    "        return embedding.numpy().tolist()\n",
    "    except Exception as e:\n",
    "        logging.error(f\"Error embedding text: {e}\")"
   ]
  },
  {
   "cell_type": "code",
   "execution_count": 9,
   "metadata": {},
   "outputs": [
    {
     "name": "stderr",
     "output_type": "stream",
     "text": [
      "c:\\Users\\Aria\\.conda\\envs\\tensorenv\\Lib\\site-packages\\transformers\\tokenization_utils_base.py:1601: FutureWarning: `clean_up_tokenization_spaces` was not set. It will be set to `True` by default. This behavior will be depracted in transformers v4.45, and will be then set to `False` by default. For more details check this issue: https://github.com/huggingface/transformers/issues/31884\n",
      "  warnings.warn(\n"
     ]
    },
    {
     "name": "stdout",
     "output_type": "stream",
     "text": [
      "WARNING:tensorflow:From c:\\Users\\Aria\\.conda\\envs\\tensorenv\\Lib\\site-packages\\tf_keras\\src\\losses.py:2976: The name tf.losses.sparse_softmax_cross_entropy is deprecated. Please use tf.compat.v1.losses.sparse_softmax_cross_entropy instead.\n",
      "\n"
     ]
    },
    {
     "name": "stderr",
     "output_type": "stream",
     "text": [
      "WARNING:tensorflow:From c:\\Users\\Aria\\.conda\\envs\\tensorenv\\Lib\\site-packages\\tf_keras\\src\\losses.py:2976: The name tf.losses.sparse_softmax_cross_entropy is deprecated. Please use tf.compat.v1.losses.sparse_softmax_cross_entropy instead.\n",
      "\n"
     ]
    },
    {
     "name": "stdout",
     "output_type": "stream",
     "text": [
      "WARNING:tensorflow:From c:\\Users\\Aria\\.conda\\envs\\tensorenv\\Lib\\site-packages\\tf_keras\\src\\backend.py:873: The name tf.get_default_graph is deprecated. Please use tf.compat.v1.get_default_graph instead.\n",
      "\n"
     ]
    },
    {
     "name": "stderr",
     "output_type": "stream",
     "text": [
      "WARNING:tensorflow:From c:\\Users\\Aria\\.conda\\envs\\tensorenv\\Lib\\site-packages\\tf_keras\\src\\backend.py:873: The name tf.get_default_graph is deprecated. Please use tf.compat.v1.get_default_graph instead.\n",
      "\n",
      "Some weights of the PyTorch model were not used when initializing the TF 2.0 model TFXLMRobertaModel: ['lm_head.dense.bias', 'lm_head.dense.weight', 'lm_head.bias', 'lm_head.layer_norm.weight', 'lm_head.layer_norm.bias']\n",
      "- This IS expected if you are initializing TFXLMRobertaModel from a PyTorch model trained on another task or with another architecture (e.g. initializing a TFBertForSequenceClassification model from a BertForPreTraining model).\n",
      "- This IS NOT expected if you are initializing TFXLMRobertaModel from a PyTorch model that you expect to be exactly identical (e.g. initializing a TFBertForSequenceClassification model from a BertForSequenceClassification model).\n",
      "All the weights of TFXLMRobertaModel were initialized from the PyTorch model.\n",
      "If your task is similar to the task the model of the checkpoint was trained on, you can already use TFXLMRobertaModel for predictions without further training.\n"
     ]
    }
   ],
   "source": [
    "# Embed the text using TensorFlow\n",
    "try:\n",
    "    embedding_large = embed_text_large(regulations_text)\n",
    "except Exception as e:\n",
    "    logging.error(f\"Error embedding regulations text: {e}\")\n",
    "    raise"
   ]
  },
  {
   "cell_type": "code",
   "execution_count": 10,
   "metadata": {},
   "outputs": [],
   "source": [
    "# Save the embedded text to a file\n",
    "def save_embeddings_to_file(embeddings, file_path):\n",
    "    try:\n",
    "        with open(file_path, 'w') as f:\n",
    "            json.dump(embeddings, f)\n",
    "        logging.info(f\"Embeddings saved to {file_path}\")\n",
    "    except Exception as e:\n",
    "        logging.error(f\"Error saving embeddings to file: {e}\")\n",
    "        raise"
   ]
  },
  {
   "cell_type": "code",
   "execution_count": 11,
   "metadata": {},
   "outputs": [],
   "source": [
    "# Upload the file to the vector store\n",
    "def upload_to_vector_store(file_path, vector_store_id):\n",
    "    try:\n",
    "        with open(file_path, 'r') as f:\n",
    "            embeddings = json.load(f)\n",
    "        client = OpenAI(api_key=os.environ.get(\"OPENAI_API_KEY\"))\n",
    "        vector_store = client.vector_stores.get(vector_store_id)\n",
    "        vector_store.upload(embeddings)\n",
    "        logging.info(f\"Embeddings uploaded to vector store {vector_store_id}\")\n",
    "    except Exception as e:\n",
    "        logging.error(f\"Error uploading embeddings to vector store: {e}\")\n",
    "        raise"
   ]
  },
  {
   "cell_type": "code",
   "execution_count": 12,
   "metadata": {},
   "outputs": [],
   "source": [
    "file_path = \"./embedded_iran_trade_rules.json\"\n",
    "save_embeddings_to_file(embedding_large,file_path)"
   ]
  },
  {
   "cell_type": "code",
   "execution_count": 13,
   "metadata": {},
   "outputs": [
    {
     "name": "stdout",
     "output_type": "stream",
     "text": [
      "completed\n",
      "FileCounts(cancelled=0, completed=1, failed=0, in_progress=0, total=1)\n"
     ]
    }
   ],
   "source": [
    "file_stream = open(file_path, \"rb\")\n",
    "file_batch = client.beta.vector_stores.file_batches.upload_and_poll(\n",
    "    vector_store_id=vector_store.id, files=[file_stream]\n",
    ")\n",
    "file_stream.close()\n",
    "\n",
    "print(file_batch.status)\n",
    "print(file_batch.file_counts)"
   ]
  },
  {
   "cell_type": "code",
   "execution_count": 14,
   "metadata": {},
   "outputs": [],
   "source": [
    "# %%\n",
    "# Update the assistant with the vector store\n",
    "Contract_Checking_Assistant = client.beta.assistants.update(\n",
    "    assistant_id=Contract_Checking_Assistant.id,\n",
    "    tool_resources={\"file_search\": {\"vector_store_ids\": [vector_store.id]}}\n",
    ")"
   ]
  },
  {
   "cell_type": "code",
   "execution_count": 15,
   "metadata": {},
   "outputs": [
    {
     "data": {
      "text/plain": [
       "'thread_ke3bjgPS2OqHSJAx8RDNoaso'"
      ]
     },
     "execution_count": 15,
     "metadata": {},
     "output_type": "execute_result"
    }
   ],
   "source": [
    "# Create a sample thread with a non-empty message content\n",
    "thread = client.beta.threads.create()\n",
    "thread.id"
   ]
  },
  {
   "cell_type": "code",
   "execution_count": 16,
   "metadata": {},
   "outputs": [],
   "source": [
    "Contract_Checking_Assistant = client.beta.assistants.update(\n",
    "    assistant_id=Contract_Checking_Assistant.id,\n",
    "    tools=[\n",
    "        {\"type\": \"file_search\"},\n",
    "        {\n",
    "            \"type\": \"function\",\n",
    "            \"function\": {\n",
    "                \"name\": \"contract_check\",\n",
    "                \"description\": \"Check the contract against specified regulations.\",\n",
    "                \"parameters\": {\n",
    "                    \"type\": \"object\",\n",
    "                    \"properties\": {\n",
    "                        \"contract_text\": {\n",
    "                            \"type\": \"string\",\n",
    "                            \"description\": \"The text of the contract to be checked.\"\n",
    "                        },\n",
    "                        \"regulations\": {\n",
    "                            \"type\": \"array\",\n",
    "                            \"items\": {\n",
    "                                \"type\": \"string\"\n",
    "                            },\n",
    "                            \"description\": \"A list of regulations to check against.\"\n",
    "                        }\n",
    "                    },\n",
    "                    \"required\": [\"contract_text\", \"regulations\"]\n",
    "                }\n",
    "            }\n",
    "        }\n",
    "    ]\n",
    ")"
   ]
  },
  {
   "cell_type": "code",
   "execution_count": 17,
   "metadata": {},
   "outputs": [],
   "source": [
    "# Configure logging\n",
    "logging.basicConfig(level=logging.INFO)"
   ]
  },
  {
   "cell_type": "code",
   "execution_count": 18,
   "metadata": {},
   "outputs": [],
   "source": [
    "def extract_text_from_word(file_path):\n",
    "    text = \"\"\n",
    "    try:\n",
    "        doc = Document(file_path)\n",
    "        for paragraph in doc.paragraphs:\n",
    "            text += paragraph.text + \"\\n\"\n",
    "    except Exception as e:\n",
    "        logging.error(f\"Error extracting text from Word file: {e}\")\n",
    "        raise\n",
    "    return text"
   ]
  },
  {
   "cell_type": "code",
   "execution_count": 19,
   "metadata": {},
   "outputs": [],
   "source": [
    "def embed_text_large(text):\n",
    "    try:\n",
    "        model_name = \"xlm-roberta-large\"\n",
    "        tokenizer = AutoTokenizer.from_pretrained(model_name)\n",
    "        model = TFAutoModel.from_pretrained(model_name)\n",
    "        inputs = tokenizer(text, return_tensors=\"tf\", padding=True, truncation=True)\n",
    "        outputs = model(**inputs)\n",
    "        embedding = outputs.last_hidden_state[:, 0, :]\n",
    "        return embedding.numpy().tolist()\n",
    "    except Exception as e:\n",
    "        logging.error(f\"Error embedding text: {e}\")\n",
    "        raise"
   ]
  },
  {
   "cell_type": "code",
   "execution_count": 20,
   "metadata": {},
   "outputs": [],
   "source": [
    "def contract_check(contract_text, regulations):\n",
    "    embeddings = embed_text_large(contract_text)\n",
    "    logging.info(\"Embeddings generated for the contract text.\")\n",
    "    response = client.beta.assistants.runs.create(\n",
    "        assistant_id=assistant_id,\n",
    "        thread_id=thread.id,\n",
    "        function_call={\"name\": \"contract_check\", \"arguments\": {\"contract_text\": contract_text, \"embeddings\": embeddings}}\n",
    "    )\n",
    "    return response"
   ]
  },
  {
   "cell_type": "code",
   "execution_count": 21,
   "metadata": {},
   "outputs": [],
   "source": [
    "def main():\n",
    "    # Widgets\n",
    "    upload = widgets.FileUpload(accept='.docx', multiple=False)\n",
    "    user_message = widgets.Text(placeholder='Enter your message with the contract')\n",
    "    output = widgets.Output()\n",
    "\n",
    "    # Display widgets\n",
    "    display(upload, user_message, output)\n",
    "    \n",
    "    def on_upload_change(change):\n",
    "        with output:\n",
    "            if upload.value and user_message.value:\n",
    "                try:\n",
    "                    file_info = list(upload.value.values())[0]\n",
    "                    contract_text = extract_text_from_word(file_info['metadata']['name'])\n",
    "                    print(f\"Length of contract text: {len(contract_text)}\")\n",
    "                except Exception as e:\n",
    "                    print(f\"Error reading the file: {e}\")\n",
    "                    return\n",
    "\n",
    "                embeddings = embed_text_large(contract_text)\n",
    "                print(\"Embeddings generated for the contract text.\")\n",
    "\n",
    "                if check_usage_limit() == 0:\n",
    "                    print(\"Usage limit reached. Please try again later.\")\n",
    "                    return\n",
    "\n",
    "                print(\"Creating a thread...\")\n",
    "                try:\n",
    "                    thread = client.beta.threads.create()\n",
    "                    print(f\"Thread created with ID: {thread.id}\")\n",
    "                except Exception as e:\n",
    "                    print(f\"Error creating thread: {e}\")\n",
    "                    return\n",
    "\n",
    "                print(\"Sending contract text and user message to the thread...\")\n",
    "                try:\n",
    "                    message = client.beta.threads.messages.create(\n",
    "                        thread_id=thread.id,\n",
    "                        role=\"user\",\n",
    "                        content=f\"{user_message.value}\\n\\n{contract_text}\"\n",
    "                    )\n",
    "                    print(\"Message sent to the thread.\")\n",
    "                except Exception as e:\n",
    "                    print(f\"Error sending message to thread: {e}\")\n",
    "                    return\n",
    "\n",
    "                run = client.beta.threads.runs.create(\n",
    "                    assistant_id=assistant_id,\n",
    "                    thread_id=thread.id\n",
    "                )\n",
    "                run = client.beta.threads.runs.retrieve(\n",
    "                    thread_id=thread.id,\n",
    "                    run_id=run.id\n",
    "                )\n",
    "                print(run.status)\n",
    "\n",
    "                while response.status != \"completed\":\n",
    "                    time.sleep(1)\n",
    "                    try:\n",
    "                        response = client.beta.assistants.retrieve(\n",
    "                            assistant_id=assistant_id,\n",
    "                            run_id=run.id                   \n",
    "                        )\n",
    "                    except Exception as e:\n",
    "                        print(f\"Error retrieving response: {e}\")\n",
    "                        return\n",
    "\n",
    "                print(response.outputs[0].text)\n",
    "\n",
    "    upload.observe(on_upload_change, names='value')"
   ]
  },
  {
   "cell_type": "code",
   "execution_count": 22,
   "metadata": {},
   "outputs": [
    {
     "data": {
      "application/vnd.jupyter.widget-view+json": {
       "model_id": "0a16ead9994c43deb2475fa2626a35b7",
       "version_major": 2,
       "version_minor": 0
      },
      "text/plain": [
       "FileUpload(value=(), accept='.docx', description='Upload')"
      ]
     },
     "metadata": {},
     "output_type": "display_data"
    },
    {
     "data": {
      "application/vnd.jupyter.widget-view+json": {
       "model_id": "a99c27db23474aedb632d524a769bc0d",
       "version_major": 2,
       "version_minor": 0
      },
      "text/plain": [
       "Text(value='', placeholder='Enter your message with the contract')"
      ]
     },
     "metadata": {},
     "output_type": "display_data"
    },
    {
     "data": {
      "application/vnd.jupyter.widget-view+json": {
       "model_id": "a259e2ecab0a44589c188d2f702bfd8e",
       "version_major": 2,
       "version_minor": 0
      },
      "text/plain": [
       "Output()"
      ]
     },
     "metadata": {},
     "output_type": "display_data"
    }
   ],
   "source": [
    "\n",
    "if __name__ == \"__main__\":\n",
    "    main()"
   ]
  },
  {
   "cell_type": "code",
   "execution_count": null,
   "metadata": {},
   "outputs": [],
   "source": []
  }
 ],
 "metadata": {
  "kernelspec": {
   "display_name": "tensorenv",
   "language": "python",
   "name": "python3"
  },
  "language_info": {
   "codemirror_mode": {
    "name": "ipython",
    "version": 3
   },
   "file_extension": ".py",
   "mimetype": "text/x-python",
   "name": "python",
   "nbconvert_exporter": "python",
   "pygments_lexer": "ipython3",
   "version": "3.11.9"
  }
 },
 "nbformat": 4,
 "nbformat_minor": 2
}
