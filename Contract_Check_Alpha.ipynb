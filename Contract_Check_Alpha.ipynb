{
 "cells": [
  {
   "cell_type": "code",
   "execution_count": 89,
   "metadata": {},
   "outputs": [],
   "source": [
    "import os\n",
    "from dotenv import load_dotenv\n",
    "import openai\n",
    "import requests\n",
    "import json\n",
    "import time\n",
    "import logging\n",
    "from datetime import datetime\n",
    "import fitz\n",
    "import tensorflow as tf\n",
    "import keras\n",
    "import keras_nlp\n",
    "import logging\n",
    "from transformers import AutoTokenizer, TFAutoModel\n",
    "import tensorflow as tf\n",
    "import docx "
   ]
  },
  {
   "cell_type": "code",
   "execution_count": 90,
   "metadata": {},
   "outputs": [],
   "source": [
    "# Load environment variables\n",
    "try:\n",
    "    load_dotenv()\n",
    "    openai.api_key = os.environ.get(\"OPENAI_API_KEY\")\n",
    "    if not openai.api_key:\n",
    "        raise ValueError(\"OpenAI API key not found in environment variables.\") \n",
    "\n",
    "    logging.info(\"Environment variables loaded successfully.\")\n",
    "except Exception as e:\n",
    "    logging.error(f\"Error loading environment variables: {e}\")\n",
    "    raise"
   ]
  },
  {
   "cell_type": "code",
   "execution_count": 91,
   "metadata": {},
   "outputs": [],
   "source": [
    "# Initialize OpenAI client\n",
    "client = openai.OpenAI()\n"
   ]
  },
  {
   "cell_type": "code",
   "execution_count": 92,
   "metadata": {},
   "outputs": [],
   "source": [
    "\n",
    "model = os.getenv(\"MODEL_NAME\", \"gpt-4o-mini\")\n",
    "\n",
    "# Create Contract Checking Assistant\n",
    "instructions = \"\"\"\n",
    "You are a Contract Checking Assistant. Your task is to receive written contracts, check them against specified regulations, identify missing parts, suggest modifications, and provide recommendations for improvement.\n",
    "\n",
    "When a contract is provided, follow these steps:\n",
    "\n",
    "1. **Check for Compliance**:\n",
    "    - Verify that the contract complies with Iran trade rules uploade on fil search tool and other iran regulations.\n",
    "    - Check compliance with ICC and Incoterms regulations which you may find on internet.\n",
    "2. **Identify Missing Parts**:\n",
    "    - Highlight any sections that are missing or incomplete based on regular contract structure.\n",
    "3. **Suggest Modifications**:\n",
    "    - Recommend changes to ensure the contract meets all legal and regulatory requirements.\n",
    "4. **Provide Improvements**:\n",
    "    - Offer suggestions on how to improve the contract for clarity, fairness, and comprehensiveness.\n",
    "5. **Identify Weaknesses and Challenges**:\n",
    "    - Find weaknesses and challenging points in the contract and suggest modifications for these parts.\n",
    "\n",
    "Your responses should be clear, concise, and professional. Always provide detailed explanations for your suggestions and ensure that your feedback is actionable.\n",
    "\"\"\""
   ]
  },
  {
   "cell_type": "code",
   "execution_count": 93,
   "metadata": {},
   "outputs": [
    {
     "data": {
      "text/plain": [
       "'asst_5h01BYX8k6uEnt4x5KzRrtsg'"
      ]
     },
     "execution_count": 93,
     "metadata": {},
     "output_type": "execute_result"
    }
   ],
   "source": [
    "# Create Contract_Checking_Assistant\n",
    "Contract_Checking_Assistant = client.beta.assistants.create(\n",
    "    name=\"Contract_Check_Assistant_alph\",\n",
    "    instructions=instructions,\n",
    "    model=model,\n",
    "    tools=[\n",
    "        {\"type\": \"file_search\"},\n",
    "        {\"type\": \"code_interpreter\"},\n",
    "    ],\n",
    "    metadata={\"project\": \"Contract Review\"}\n",
    ")\n",
    "\n",
    "Contract_Checking_Assistant.id"
   ]
  },
  {
   "cell_type": "code",
   "execution_count": 94,
   "metadata": {},
   "outputs": [
    {
     "data": {
      "text/plain": [
       "'vs_Fs2sbnvls9GZ5NBtStrJvnL2'"
      ]
     },
     "execution_count": 94,
     "metadata": {},
     "output_type": "execute_result"
    }
   ],
   "source": [
    "# Create a vector store called \"The Rules\"\n",
    "vector_store = client.beta.vector_stores.create(name=\"The Rules\")\n",
    "vector_store.id"
   ]
  },
  {
   "cell_type": "code",
   "execution_count": 95,
   "metadata": {},
   "outputs": [],
   "source": [
    "# Upload the file to the vector store\n",
    "def upload_to_vector_store(file_path, vector_store_id):\n",
    "    try:\n",
    "        with open(file_path, 'r') as f:\n",
    "            embeddings = json.load(f)\n",
    "        client = OpenAI(api_key=os.environ.get(\"OPENAI_API_KEY\"))\n",
    "        vector_store = client.vector_stores.get(vector_store_id)\n",
    "        vector_store.upload(embeddings)\n",
    "        logging.info(f\"Embeddings uploaded to vector store {vector_store_id}\")\n",
    "    except Exception as e:\n",
    "        logging.error(f\"Error uploading embeddings to vector store: {e}\")\n",
    "        raise"
   ]
  },
  {
   "cell_type": "code",
   "execution_count": 96,
   "metadata": {},
   "outputs": [
    {
     "name": "stdout",
     "output_type": "stream",
     "text": [
      "completed\n",
      "FileCounts(cancelled=0, completed=1, failed=0, in_progress=0, total=1)\n"
     ]
    }
   ],
   "source": [
    "file_path = './iran_trade_rules.docx'\n",
    "file_stream = open(file_path, \"rb\")\n",
    "file_batch = client.beta.vector_stores.file_batches.upload_and_poll(\n",
    "    vector_store_id=vector_store.id, files=[file_stream]\n",
    ")\n",
    "file_stream.close()\n",
    "\n",
    "print(file_batch.status)\n",
    "print(file_batch.file_counts)"
   ]
  },
  {
   "cell_type": "code",
   "execution_count": 97,
   "metadata": {},
   "outputs": [],
   "source": [
    "# %%\n",
    "# Update the assistant with the vector store\n",
    "Contract_Checking_Assistant = client.beta.assistants.update(\n",
    "    assistant_id=Contract_Checking_Assistant.id,\n",
    "    tool_resources={\"file_search\": {\"vector_store_ids\": [vector_store.id]}}\n",
    ")"
   ]
  },
  {
   "cell_type": "code",
   "execution_count": 98,
   "metadata": {},
   "outputs": [
    {
     "data": {
      "text/plain": [
       "'thread_YL4qUF9qDLylzVvEKc9mKUjB'"
      ]
     },
     "execution_count": 98,
     "metadata": {},
     "output_type": "execute_result"
    }
   ],
   "source": [
    "# Create a sample thread with a non-empty message content\n",
    "thread = client.beta.threads.create()\n",
    "thread.id"
   ]
  },
  {
   "cell_type": "code",
   "execution_count": 99,
   "metadata": {},
   "outputs": [],
   "source": [
    "Contract_Checking_Assistant = client.beta.assistants.update(\n",
    "    assistant_id=Contract_Checking_Assistant.id,\n",
    "    tools=[\n",
    "        {\"type\": \"file_search\"},\n",
    "        {\n",
    "            \"type\": \"function\",\n",
    "            \"function\": {\n",
    "                \"name\": \"contract_check\",\n",
    "                \"description\": \"Check the contract against specified regulations.\",\n",
    "                \"parameters\": {\n",
    "                    \"type\": \"object\",\n",
    "                    \"properties\": {\n",
    "                        \"contract_text\": {\n",
    "                            \"type\": \"string\",\n",
    "                            \"description\": \"The text of the contract to be checked.\"\n",
    "                        },\n",
    "                        \"regulations\": {\n",
    "                            \"type\": \"array\",\n",
    "                            \"items\": {\n",
    "                                \"type\": \"string\"\n",
    "                            },\n",
    "                            \"description\": \"A list of regulations to check against.\"\n",
    "                        }\n",
    "                    },\n",
    "                    \"required\": [\"contract_text\", \"regulations\"]\n",
    "                }\n",
    "            }\n",
    "        }\n",
    "    ]\n",
    ")\n"
   ]
  }
 ],
 "metadata": {
  "kernelspec": {
   "display_name": "tensorenv",
   "language": "python",
   "name": "python3"
  },
  "language_info": {
   "codemirror_mode": {
    "name": "ipython",
    "version": 3
   },
   "file_extension": ".py",
   "mimetype": "text/x-python",
   "name": "python",
   "nbconvert_exporter": "python",
   "pygments_lexer": "ipython3",
   "version": "3.11.9"
  }
 },
 "nbformat": 4,
 "nbformat_minor": 2
}
